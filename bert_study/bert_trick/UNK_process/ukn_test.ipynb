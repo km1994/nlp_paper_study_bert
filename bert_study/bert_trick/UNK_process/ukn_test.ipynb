{
 "cells": [
  {
   "cell_type": "code",
   "execution_count": 4,
   "metadata": {},
   "outputs": [],
   "source": [
    "model_path = \"F:/document/datasets/nlpData/pretrain/bert/chinese_wwm_ext_pytorch\"  #自己的bert模型路径"
   ]
  },
  {
   "cell_type": "markdown",
   "metadata": {},
   "source": [
    "# 添加新词"
   ]
  },
  {
   "cell_type": "code",
   "execution_count": 5,
   "metadata": {},
   "outputs": [
    {
     "name": "stderr",
     "output_type": "stream",
     "text": [
      "Some weights of the model checkpoint at F:/document/datasets/nlpData/pretrain/bert/chinese_wwm_ext_pytorch were not used when initializing BertForMaskedLM: ['cls.seq_relationship.bias', 'cls.seq_relationship.weight']\n",
      "- This IS expected if you are initializing BertForMaskedLM from the checkpoint of a model trained on another task or with another architecture (e.g. initializing a BertForSequenceClassification model from a BertForPreTraining model).\n",
      "- This IS NOT expected if you are initializing BertForMaskedLM from the checkpoint of a model that you expect to be exactly identical (initializing a BertForSequenceClassification model from a BertForSequenceClassification model).\n"
     ]
    }
   ],
   "source": [
    "from transformers import BertForMaskedLM, BertTokenizer\n",
    "tokenizer = BertTokenizer.from_pretrained(model_path, use_fast=True)\n",
    "model = BertForMaskedLM.from_pretrained(model_path)"
   ]
  },
  {
   "cell_type": "code",
   "execution_count": 2,
   "metadata": {},
   "outputs": [
    {
     "name": "stdout",
     "output_type": "stream",
     "text": [
      "['骨', '[UNK]']\n"
     ]
    }
   ],
   "source": [
    "print(tokenizer.tokenize('骨骺'))"
   ]
  },
  {
   "cell_type": "code",
   "execution_count": 3,
   "metadata": {},
   "outputs": [
    {
     "name": "stdout",
     "output_type": "stream",
     "text": [
      "['an', '##ew', '##word']\n"
     ]
    }
   ],
   "source": [
    "print(tokenizer.tokenize('anewword'))"
   ]
  },
  {
   "cell_type": "code",
   "execution_count": 4,
   "metadata": {},
   "outputs": [],
   "source": [
    "new_tokens = ['COVID', '骨骺']\n",
    "num_added_toks = tokenizer.add_tokens(new_tokens)"
   ]
  },
  {
   "cell_type": "code",
   "execution_count": 5,
   "metadata": {},
   "outputs": [
    {
     "name": "stdout",
     "output_type": "stream",
     "text": [
      "['骨骺']\n",
      "['covid']\n"
     ]
    }
   ],
   "source": [
    "print(tokenizer.tokenize('骨骺'))\n",
    "print(tokenizer.tokenize('COVID'))"
   ]
  },
  {
   "cell_type": "markdown",
   "metadata": {},
   "source": [
    "# 添加 新占位符"
   ]
  },
  {
   "cell_type": "code",
   "execution_count": 10,
   "metadata": {},
   "outputs": [
    {
     "name": "stderr",
     "output_type": "stream",
     "text": [
      "Some weights of the model checkpoint at F:/document/datasets/nlpData/pretrain/bert/chinese_wwm_ext_pytorch were not used when initializing BertModel: ['cls.seq_relationship.bias', 'cls.predictions.transform.LayerNorm.weight', 'cls.predictions.bias', 'cls.predictions.transform.LayerNorm.bias', 'cls.predictions.decoder.weight', 'cls.seq_relationship.weight', 'cls.predictions.transform.dense.weight', 'cls.predictions.transform.dense.bias']\n",
      "- This IS expected if you are initializing BertModel from the checkpoint of a model trained on another task or with another architecture (e.g. initializing a BertForSequenceClassification model from a BertForPreTraining model).\n",
      "- This IS NOT expected if you are initializing BertModel from the checkpoint of a model that you expect to be exactly identical (initializing a BertForSequenceClassification model from a BertForSequenceClassification model).\n"
     ]
    }
   ],
   "source": [
    "# 导入模型和分词器\n",
    "from transformers import BertTokenizer,BertModel\n",
    "import torch\n",
    "tokenizer = BertTokenizer.from_pretrained(model_path, use_fast=True)\n",
    "bertmodel = BertModel.from_pretrained(model_path)"
   ]
  },
  {
   "cell_type": "code",
   "execution_count": 11,
   "metadata": {},
   "outputs": [
    {
     "name": "stdout",
     "output_type": "stream",
     "text": [
      "普通 分词效果：\n",
      "['[CLS]', 'i', 'love', '<', 'e', '>', '!', '[SEP]']\n",
      "添加特殊占位符 后 的分词效果：\n",
      "['<e>']\n",
      "[21128]\n",
      "['[CLS]', 'i', 'love', '<e>', '!', '[SEP]']\n"
     ]
    }
   ],
   "source": [
    "text = \" I love <e> ! \"\n",
    "# 对于一个句子，首尾分别加[CLS]和[SEP]。\n",
    "text = \"[CLS] \" + text + \" [SEP]\"\n",
    "# 然后进行分词\n",
    "print(\"普通 分词效果：\")\n",
    "tokenized_text1 = tokenizer.tokenize(text)\n",
    "print(tokenized_text1)\n",
    "indexed_tokens1 = tokenizer.convert_tokens_to_ids(tokenized_text1)\n",
    "# 分词结束后获取BERT模型需要的tensor\n",
    "segments_ids1 = [1] * len(tokenized_text1)\n",
    "tokens_tensor1 = torch.tensor([indexed_tokens1]) # 将list转为tensor\n",
    "segments_tensors1 = torch.tensor([segments_ids1])\n",
    "# 获取所有词向量的embedding\n",
    "word_vectors1 = bertmodel(tokens_tensor1, segments_tensors1)[0]\n",
    "# 获取句子的embedding\n",
    "sentenc_vector1 = bertmodel(tokens_tensor1, segments_tensors1)[1]\n",
    "tokenizer.add_special_tokens({'additional_special_tokens':[\"<e>\"]})\n",
    "print(\"添加特殊占位符 后 的分词效果：\")\n",
    "print(tokenizer.additional_special_tokens) # 查看此类特殊token有哪些\n",
    "print(tokenizer.additional_special_tokens_ids) # 查看其id\n",
    "tokenized_text1 = tokenizer.tokenize(text)\n",
    "print(tokenized_text1)"
   ]
  },
  {
   "cell_type": "code",
   "execution_count": null,
   "metadata": {},
   "outputs": [],
   "source": []
  }
 ],
 "metadata": {
  "kernelspec": {
   "display_name": "Python 3",
   "language": "python",
   "name": "python3"
  },
  "language_info": {
   "codemirror_mode": {
    "name": "ipython",
    "version": 3
   },
   "file_extension": ".py",
   "mimetype": "text/x-python",
   "name": "python",
   "nbconvert_exporter": "python",
   "pygments_lexer": "ipython3",
   "version": "3.7.0"
  },
  "toc": {
   "base_numbering": 1,
   "nav_menu": {},
   "number_sections": true,
   "sideBar": true,
   "skip_h1_title": false,
   "title_cell": "Table of Contents",
   "title_sidebar": "Contents",
   "toc_cell": false,
   "toc_position": {},
   "toc_section_display": true,
   "toc_window_display": false
  }
 },
 "nbformat": 4,
 "nbformat_minor": 2
}
